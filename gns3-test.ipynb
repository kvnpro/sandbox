{
 "cells": [
  {
   "cell_type": "markdown",
   "metadata": {},
   "source": [
    "### GNS3 REST API\n",
    "\n",
    "Based on examples from the GNS3 Docs pages."
   ]
  },
  {
   "cell_type": "code",
   "execution_count": 1,
   "metadata": {},
   "outputs": [],
   "source": [
    "import pandas as pd\n",
    "import requests"
   ]
  },
  {
   "cell_type": "code",
   "execution_count": 2,
   "metadata": {},
   "outputs": [
    {
     "name": "stdout",
     "output_type": "stream",
     "text": [
      "200\n"
     ]
    }
   ],
   "source": [
    "r = requests.get(\"http://localhost:3080/v2/projects\")\n",
    "print(r.status_code)\n",
    "#print(r.text)"
   ]
  },
  {
   "cell_type": "code",
   "execution_count": 3,
   "metadata": {},
   "outputs": [],
   "source": [
    "#r.json()"
   ]
  },
  {
   "cell_type": "markdown",
   "metadata": {},
   "source": [
    "We can get a list of projects in the current profile."
   ]
  },
  {
   "cell_type": "code",
   "execution_count": 13,
   "metadata": {},
   "outputs": [
    {
     "data": {
      "text/plain": [
       "(4, 18)"
      ]
     },
     "execution_count": 13,
     "metadata": {},
     "output_type": "execute_result"
    }
   ],
   "source": [
    "df = pd.read_json(r.text)\n",
    "df.shape"
   ]
  },
  {
   "cell_type": "code",
   "execution_count": 14,
   "metadata": {},
   "outputs": [
    {
     "data": {
      "text/html": [
       "<div>\n",
       "<style scoped>\n",
       "    .dataframe tbody tr th:only-of-type {\n",
       "        vertical-align: middle;\n",
       "    }\n",
       "\n",
       "    .dataframe tbody tr th {\n",
       "        vertical-align: top;\n",
       "    }\n",
       "\n",
       "    .dataframe thead th {\n",
       "        text-align: right;\n",
       "    }\n",
       "</style>\n",
       "<table border=\"1\" class=\"dataframe\">\n",
       "  <thead>\n",
       "    <tr style=\"text-align: right;\">\n",
       "      <th></th>\n",
       "      <th>auto_close</th>\n",
       "      <th>auto_open</th>\n",
       "      <th>auto_start</th>\n",
       "      <th>filename</th>\n",
       "      <th>grid_size</th>\n",
       "      <th>name</th>\n",
       "      <th>path</th>\n",
       "      <th>project_id</th>\n",
       "      <th>scene_height</th>\n",
       "      <th>scene_width</th>\n",
       "      <th>show_grid</th>\n",
       "      <th>show_interface_labels</th>\n",
       "      <th>show_layers</th>\n",
       "      <th>snap_to_grid</th>\n",
       "      <th>status</th>\n",
       "      <th>supplier</th>\n",
       "      <th>variables</th>\n",
       "      <th>zoom</th>\n",
       "    </tr>\n",
       "  </thead>\n",
       "  <tbody>\n",
       "    <tr>\n",
       "      <th>0</th>\n",
       "      <td>True</td>\n",
       "      <td>False</td>\n",
       "      <td>False</td>\n",
       "      <td>sandbox.gns3</td>\n",
       "      <td>0</td>\n",
       "      <td>sandbox</td>\n",
       "      <td>/Users/kevin/GNS3/projects/sandbox</td>\n",
       "      <td>e6099621-b13f-4605-ba61-393cfcf7ceb8</td>\n",
       "      <td>1000</td>\n",
       "      <td>2000</td>\n",
       "      <td>False</td>\n",
       "      <td>True</td>\n",
       "      <td>False</td>\n",
       "      <td>False</td>\n",
       "      <td>closed</td>\n",
       "      <td>NaN</td>\n",
       "      <td>NaN</td>\n",
       "      <td>100</td>\n",
       "    </tr>\n",
       "    <tr>\n",
       "      <th>1</th>\n",
       "      <td>True</td>\n",
       "      <td>False</td>\n",
       "      <td>False</td>\n",
       "      <td>splunk.gns3</td>\n",
       "      <td>0</td>\n",
       "      <td>splunk</td>\n",
       "      <td>/Users/kevin/GNS3/projects/splunk</td>\n",
       "      <td>51ee30ed-3f8d-467e-8990-e042b0e1c0fe</td>\n",
       "      <td>1000</td>\n",
       "      <td>2000</td>\n",
       "      <td>False</td>\n",
       "      <td>True</td>\n",
       "      <td>False</td>\n",
       "      <td>False</td>\n",
       "      <td>closed</td>\n",
       "      <td>NaN</td>\n",
       "      <td>NaN</td>\n",
       "      <td>100</td>\n",
       "    </tr>\n",
       "    <tr>\n",
       "      <th>2</th>\n",
       "      <td>True</td>\n",
       "      <td>False</td>\n",
       "      <td>False</td>\n",
       "      <td>untitled.gns3</td>\n",
       "      <td>0</td>\n",
       "      <td>untitled</td>\n",
       "      <td>/Users/kevin/GNS3/projects/untitled</td>\n",
       "      <td>e4a6165e-32cc-499a-99e5-ff0e08443606</td>\n",
       "      <td>1000</td>\n",
       "      <td>2000</td>\n",
       "      <td>False</td>\n",
       "      <td>True</td>\n",
       "      <td>False</td>\n",
       "      <td>False</td>\n",
       "      <td>opened</td>\n",
       "      <td>NaN</td>\n",
       "      <td>NaN</td>\n",
       "      <td>100</td>\n",
       "    </tr>\n",
       "    <tr>\n",
       "      <th>3</th>\n",
       "      <td>True</td>\n",
       "      <td>False</td>\n",
       "      <td>False</td>\n",
       "      <td>kevin.gns3</td>\n",
       "      <td>0</td>\n",
       "      <td>kevin</td>\n",
       "      <td>/Users/kevin/GNS3/projects/kevin</td>\n",
       "      <td>bcc63fd0-a205-440d-8872-e5fb604adac2</td>\n",
       "      <td>1000</td>\n",
       "      <td>2000</td>\n",
       "      <td>False</td>\n",
       "      <td>True</td>\n",
       "      <td>False</td>\n",
       "      <td>False</td>\n",
       "      <td>closed</td>\n",
       "      <td>NaN</td>\n",
       "      <td>NaN</td>\n",
       "      <td>100</td>\n",
       "    </tr>\n",
       "  </tbody>\n",
       "</table>\n",
       "</div>"
      ],
      "text/plain": [
       "   auto_close  auto_open  auto_start       filename  grid_size      name  \\\n",
       "0        True      False       False   sandbox.gns3          0   sandbox   \n",
       "1        True      False       False    splunk.gns3          0    splunk   \n",
       "2        True      False       False  untitled.gns3          0  untitled   \n",
       "3        True      False       False     kevin.gns3          0     kevin   \n",
       "\n",
       "                                  path                            project_id  \\\n",
       "0   /Users/kevin/GNS3/projects/sandbox  e6099621-b13f-4605-ba61-393cfcf7ceb8   \n",
       "1    /Users/kevin/GNS3/projects/splunk  51ee30ed-3f8d-467e-8990-e042b0e1c0fe   \n",
       "2  /Users/kevin/GNS3/projects/untitled  e4a6165e-32cc-499a-99e5-ff0e08443606   \n",
       "3     /Users/kevin/GNS3/projects/kevin  bcc63fd0-a205-440d-8872-e5fb604adac2   \n",
       "\n",
       "   scene_height  scene_width  show_grid  show_interface_labels  show_layers  \\\n",
       "0          1000         2000      False                   True        False   \n",
       "1          1000         2000      False                   True        False   \n",
       "2          1000         2000      False                   True        False   \n",
       "3          1000         2000      False                   True        False   \n",
       "\n",
       "   snap_to_grid  status  supplier  variables  zoom  \n",
       "0         False  closed       NaN        NaN   100  \n",
       "1         False  closed       NaN        NaN   100  \n",
       "2         False  opened       NaN        NaN   100  \n",
       "3         False  closed       NaN        NaN   100  "
      ]
     },
     "execution_count": 14,
     "metadata": {},
     "output_type": "execute_result"
    }
   ],
   "source": [
    "df.head()"
   ]
  },
  {
   "cell_type": "markdown",
   "metadata": {},
   "source": [
    "OK, so `read_json` handles list by creating separate rows in the DataFrame.  "
   ]
  },
  {
   "cell_type": "code",
   "execution_count": 15,
   "metadata": {},
   "outputs": [
    {
     "data": {
      "text/html": [
       "<div>\n",
       "<style scoped>\n",
       "    .dataframe tbody tr th:only-of-type {\n",
       "        vertical-align: middle;\n",
       "    }\n",
       "\n",
       "    .dataframe tbody tr th {\n",
       "        vertical-align: top;\n",
       "    }\n",
       "\n",
       "    .dataframe thead th {\n",
       "        text-align: right;\n",
       "    }\n",
       "</style>\n",
       "<table border=\"1\" class=\"dataframe\">\n",
       "  <thead>\n",
       "    <tr style=\"text-align: right;\">\n",
       "      <th></th>\n",
       "      <th>name</th>\n",
       "      <th>project_id</th>\n",
       "    </tr>\n",
       "  </thead>\n",
       "  <tbody>\n",
       "    <tr>\n",
       "      <th>0</th>\n",
       "      <td>sandbox</td>\n",
       "      <td>e6099621-b13f-4605-ba61-393cfcf7ceb8</td>\n",
       "    </tr>\n",
       "    <tr>\n",
       "      <th>1</th>\n",
       "      <td>splunk</td>\n",
       "      <td>51ee30ed-3f8d-467e-8990-e042b0e1c0fe</td>\n",
       "    </tr>\n",
       "    <tr>\n",
       "      <th>2</th>\n",
       "      <td>untitled</td>\n",
       "      <td>e4a6165e-32cc-499a-99e5-ff0e08443606</td>\n",
       "    </tr>\n",
       "    <tr>\n",
       "      <th>3</th>\n",
       "      <td>kevin</td>\n",
       "      <td>bcc63fd0-a205-440d-8872-e5fb604adac2</td>\n",
       "    </tr>\n",
       "  </tbody>\n",
       "</table>\n",
       "</div>"
      ],
      "text/plain": [
       "       name                            project_id\n",
       "0   sandbox  e6099621-b13f-4605-ba61-393cfcf7ceb8\n",
       "1    splunk  51ee30ed-3f8d-467e-8990-e042b0e1c0fe\n",
       "2  untitled  e4a6165e-32cc-499a-99e5-ff0e08443606\n",
       "3     kevin  bcc63fd0-a205-440d-8872-e5fb604adac2"
      ]
     },
     "execution_count": 15,
     "metadata": {},
     "output_type": "execute_result"
    }
   ],
   "source": [
    "df[['name','project_id']]"
   ]
  },
  {
   "cell_type": "markdown",
   "metadata": {},
   "source": [
    "I'd like to look at what `nodes` are defined in a particular project - here we are looking at the csr-test project."
   ]
  },
  {
   "cell_type": "code",
   "execution_count": 20,
   "metadata": {},
   "outputs": [],
   "source": [
    "rproj = requests.get(\"http://localhost:3080/v2/projects/e4a6165e-32cc-499a-99e5-ff0e08443606\")"
   ]
  },
  {
   "cell_type": "code",
   "execution_count": 19,
   "metadata": {},
   "outputs": [
    {
     "name": "stdout",
     "output_type": "stream",
     "text": [
      "{\n",
      "    \"auto_close\": true,\n",
      "    \"auto_open\": false,\n",
      "    \"auto_start\": false,\n",
      "    \"filename\": \"untitled.gns3\",\n",
      "    \"grid_size\": 0,\n",
      "    \"name\": \"untitled\",\n",
      "    \"path\": \"/Users/kevin/GNS3/projects/untitled\",\n",
      "    \"project_id\": \"e4a6165e-32cc-499a-99e5-ff0e08443606\",\n",
      "    \"scene_height\": 1000,\n",
      "    \"scene_width\": 2000,\n",
      "    \"show_grid\": false,\n",
      "    \"show_interface_labels\": true,\n",
      "    \"show_layers\": false,\n",
      "    \"snap_to_grid\": false,\n",
      "    \"status\": \"opened\",\n",
      "    \"supplier\": null,\n",
      "    \"variables\": null,\n",
      "    \"zoom\": 100\n",
      "}\n"
     ]
    }
   ],
   "source": [
    "print(rproj.text)"
   ]
  },
  {
   "cell_type": "code",
   "execution_count": 21,
   "metadata": {},
   "outputs": [],
   "source": [
    "import json\n",
    "projectInfo=json.loads(rproj.text)"
   ]
  },
  {
   "cell_type": "code",
   "execution_count": 22,
   "metadata": {},
   "outputs": [
    {
     "name": "stdout",
     "output_type": "stream",
     "text": [
      "untitled\n"
     ]
    }
   ],
   "source": [
    "print(projectInfo[\"name\"])"
   ]
  },
  {
   "cell_type": "code",
   "execution_count": 23,
   "metadata": {},
   "outputs": [],
   "source": [
    "rnodes = requests.get(\"http://localhost:3080/v2/projects/e4a6165e-32cc-499a-99e5-ff0e08443606/nodes\")"
   ]
  },
  {
   "cell_type": "code",
   "execution_count": 24,
   "metadata": {},
   "outputs": [
    {
     "data": {
      "text/html": [
       "<div>\n",
       "<style scoped>\n",
       "    .dataframe tbody tr th:only-of-type {\n",
       "        vertical-align: middle;\n",
       "    }\n",
       "\n",
       "    .dataframe tbody tr th {\n",
       "        vertical-align: top;\n",
       "    }\n",
       "\n",
       "    .dataframe thead th {\n",
       "        text-align: right;\n",
       "    }\n",
       "</style>\n",
       "<table border=\"1\" class=\"dataframe\">\n",
       "  <thead>\n",
       "    <tr style=\"text-align: right;\">\n",
       "      <th></th>\n",
       "      <th>command_line</th>\n",
       "      <th>compute_id</th>\n",
       "      <th>console</th>\n",
       "      <th>console_host</th>\n",
       "      <th>console_type</th>\n",
       "      <th>first_port_name</th>\n",
       "      <th>height</th>\n",
       "      <th>label</th>\n",
       "      <th>name</th>\n",
       "      <th>node_directory</th>\n",
       "      <th>...</th>\n",
       "      <th>port_segment_size</th>\n",
       "      <th>ports</th>\n",
       "      <th>project_id</th>\n",
       "      <th>properties</th>\n",
       "      <th>status</th>\n",
       "      <th>symbol</th>\n",
       "      <th>width</th>\n",
       "      <th>x</th>\n",
       "      <th>y</th>\n",
       "      <th>z</th>\n",
       "    </tr>\n",
       "  </thead>\n",
       "  <tbody>\n",
       "    <tr>\n",
       "      <th>0</th>\n",
       "      <td></td>\n",
       "      <td>local</td>\n",
       "      <td>5000</td>\n",
       "      <td>127.0.0.1</td>\n",
       "      <td>telnet</td>\n",
       "      <td>NaN</td>\n",
       "      <td>59</td>\n",
       "      <td>{'rotation': 0, 'style': 'font-family: TypeWri...</td>\n",
       "      <td>PC-1</td>\n",
       "      <td>/Users/kevin/GNS3/projects/untitled/project-fi...</td>\n",
       "      <td>...</td>\n",
       "      <td>0</td>\n",
       "      <td>[{'adapter_number': 0, 'data_link_types': {'Et...</td>\n",
       "      <td>e4a6165e-32cc-499a-99e5-ff0e08443606</td>\n",
       "      <td>{}</td>\n",
       "      <td>stopped</td>\n",
       "      <td>:/symbols/vpcs_guest.svg</td>\n",
       "      <td>65</td>\n",
       "      <td>-108</td>\n",
       "      <td>-5</td>\n",
       "      <td>0</td>\n",
       "    </tr>\n",
       "  </tbody>\n",
       "</table>\n",
       "<p>1 rows × 23 columns</p>\n",
       "</div>"
      ],
      "text/plain": [
       "  command_line compute_id  console console_host console_type  first_port_name  \\\n",
       "0                   local     5000    127.0.0.1       telnet              NaN   \n",
       "\n",
       "   height                                              label  name  \\\n",
       "0      59  {'rotation': 0, 'style': 'font-family: TypeWri...  PC-1   \n",
       "\n",
       "                                      node_directory  ... port_segment_size  \\\n",
       "0  /Users/kevin/GNS3/projects/untitled/project-fi...  ...                 0   \n",
       "\n",
       "                                               ports  \\\n",
       "0  [{'adapter_number': 0, 'data_link_types': {'Et...   \n",
       "\n",
       "                             project_id  properties   status  \\\n",
       "0  e4a6165e-32cc-499a-99e5-ff0e08443606          {}  stopped   \n",
       "\n",
       "                     symbol width    x  y  z  \n",
       "0  :/symbols/vpcs_guest.svg    65 -108 -5  0  \n",
       "\n",
       "[1 rows x 23 columns]"
      ]
     },
     "execution_count": 24,
     "metadata": {},
     "output_type": "execute_result"
    }
   ],
   "source": [
    "dfnodes= pd.read_json(rnodes.text)\n",
    "dfnodes\n",
    "#print(rnodes.text)"
   ]
  },
  {
   "cell_type": "markdown",
   "metadata": {},
   "source": [
    "## Stop a Node\n",
    "\n",
    "with project and node id's, we can make a call to stop a node.  This is a POST, compared to the GET's we have been doing so far."
   ]
  },
  {
   "cell_type": "code",
   "execution_count": 35,
   "metadata": {},
   "outputs": [],
   "source": [
    "rs = requests.post(\"http://localhost:3080/v2/projects/20ee663c-602b-4b37-9c29-929c03ca3d99/nodes/48999888-0c1f-4996-a635-1debcd21e855/stop\")"
   ]
  }
 ],
 "metadata": {
  "kernelspec": {
   "display_name": "Python 3 (ipykernel)",
   "language": "python",
   "name": "python3"
  },
  "language_info": {
   "codemirror_mode": {
    "name": "ipython",
    "version": 3
   },
   "file_extension": ".py",
   "mimetype": "text/x-python",
   "name": "python",
   "nbconvert_exporter": "python",
   "pygments_lexer": "ipython3",
   "version": "3.9.10+"
  }
 },
 "nbformat": 4,
 "nbformat_minor": 2
}
