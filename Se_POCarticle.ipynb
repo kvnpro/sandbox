{
 "cells": [
  {
   "cell_type": "markdown",
   "source": [
    "### POC of Selenium to automate Adding Certificates\r\n",
    "\r\n",
    "Based on the example used in [this article](https://www.browserstack.com/guide/python-selenium-to-run-web-automation-test), I've included the sample and then expanded to read and use data from `LMChain.pem` which holds 43 certificates used as CA Roots by LM.\r\n",
    "\r\n",
    "A scond article used in building the test case [helped with submitting the form](https://www.tutorialspoint.com/what-are-the-ways-of-submitting-a-form-in-selenium-with-python).\r\n",
    "\r\n",
    "I chose to the `Chrome` option as I had issues invoking the `Firefox` driver on my laptop.  I may come back to that, but in the end, it doesn't really matter for the work we are doing.\r\n",
    "\r\n",
    "-----\r\n"
   ],
   "metadata": {}
  },
  {
   "cell_type": "code",
   "execution_count": 1,
   "source": [
    "from selenium import webdriver\r\n",
    "from selenium.webdriver.common.keys import Keys"
   ],
   "outputs": [],
   "metadata": {}
  },
  {
   "cell_type": "code",
   "execution_count": 2,
   "source": [
    "b=webdriver.Chrome()"
   ],
   "outputs": [],
   "metadata": {}
  },
  {
   "cell_type": "code",
   "execution_count": 3,
   "source": [
    "b.get('https://www.python.org')"
   ],
   "outputs": [],
   "metadata": {}
  },
  {
   "cell_type": "code",
   "execution_count": 4,
   "source": [
    "print(b.title)"
   ],
   "outputs": [
    {
     "output_type": "stream",
     "name": "stdout",
     "text": [
      "Welcome to Python.org\n"
     ]
    }
   ],
   "metadata": {}
  },
  {
   "cell_type": "code",
   "execution_count": 5,
   "source": [
    "search_bar = b.find_element_by_name(\"q\")"
   ],
   "outputs": [],
   "metadata": {}
  },
  {
   "cell_type": "code",
   "execution_count": 6,
   "source": [
    "search_bar.clear()\r\n",
    "search_bar.send_keys(\"getting started with python\")"
   ],
   "outputs": [],
   "metadata": {}
  },
  {
   "cell_type": "code",
   "execution_count": 7,
   "source": [
    "search_bar.send_keys(Keys.RETURN)"
   ],
   "outputs": [],
   "metadata": {}
  },
  {
   "cell_type": "code",
   "execution_count": 8,
   "source": [
    "print(b.current_url)"
   ],
   "outputs": [
    {
     "output_type": "stream",
     "name": "stdout",
     "text": [
      "https://www.python.org/search/?q=getting+started+with+python&submit=\n"
     ]
    }
   ],
   "metadata": {}
  },
  {
   "cell_type": "code",
   "execution_count": 9,
   "source": [
    "b.close()"
   ],
   "outputs": [],
   "metadata": {}
  },
  {
   "cell_type": "code",
   "execution_count": null,
   "source": [],
   "outputs": [],
   "metadata": {}
  }
 ],
 "metadata": {
  "orig_nbformat": 4,
  "language_info": {
   "name": "python",
   "version": "3.8.10",
   "mimetype": "text/x-python",
   "codemirror_mode": {
    "name": "ipython",
    "version": 3
   },
   "pygments_lexer": "ipython3",
   "nbconvert_exporter": "python",
   "file_extension": ".py"
  },
  "kernelspec": {
   "name": "python3",
   "display_name": "Python 3.8.10 64-bit"
  },
  "interpreter": {
   "hash": "940921e66316d4aec286bc68d52d7403c6641f7d933798c183b7be3e07e6bb89"
  }
 },
 "nbformat": 4,
 "nbformat_minor": 2
}