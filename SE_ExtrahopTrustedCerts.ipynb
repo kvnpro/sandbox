{
 "cells": [
  {
   "cell_type": "markdown",
   "metadata": {},
   "source": [
    "### POC of Selenium to automate Adding Certificates\n",
    "\n",
    "Based on the example used in [this article](https://www.browserstack.com/guide/python-selenium-to-run-web-automation-test), I've included the sample and then expanded to read and use data from `LMChain.pem` which holds 43 certificates used as CA Roots by LM.\n",
    "\n",
    "A scond article used in building the test case [helped with submitting the form](https://www.tutorialspoint.com/what-are-the-ways-of-submitting-a-form-in-selenium-with-python).\n",
    "\n",
    "I chose to the `Chrome` option as I had issues invoking the `Firefox` driver on my laptop.  I may come back to that, but in the end, it doesn't really matter for the work we are doing.\n",
    "\n",
    "----------\n"
   ]
  },
  {
   "cell_type": "markdown",
   "metadata": {},
   "source": [
    "### On to Automation!\n",
    "\n",
    "Now that we've walked through the example code, it's time to make it interesting by introducing `LMChain.pem` and figuing out how to use it to drive a process to add all the contained certs to the ExtraHop `Trusted Certificates` pool.\n",
    "\n",
    "-----\n",
    "\n",
    "I decided to use `split('-----END CERTIFICATE-----')` to put each certificatae into a `LIST` element that we could iterate through.  I originally through I'd need to get the Begin...End pair down to a single character to get the split to work.  No need to go back and figure out the Begin line, as we need that anyway when we pass the cert into ExtraHop for processing."
   ]
  },
  {
   "cell_type": "code",
   "execution_count": 25,
   "metadata": {},
   "outputs": [],
   "source": [
    "import pathlib\n",
    "import time\n",
    "from selenium import webdriver\n",
    "from selenium.webdriver.common.keys import Keys"
   ]
  },
  {
   "cell_type": "code",
   "execution_count": 1,
   "metadata": {},
   "outputs": [],
   "source": [
    "with open(\"C:/Users/e309516/LMChain.pem\") as f:\n",
    "    content = f.read()\n",
    "\n",
    "#print(content[1:40])\n"
   ]
  },
  {
   "cell_type": "code",
   "execution_count": 2,
   "metadata": {},
   "outputs": [],
   "source": [
    "#fix=content.replace('-----BEGIN CERTIFICATE-----','')\n",
    "#fix=fix.replace('-----END CERTIFICATE-----','|')\n",
    "#certs = fix.split('|')\n",
    "\n",
    "certs = content.split('-----END CERTIFICATE-----')"
   ]
  },
  {
   "cell_type": "code",
   "execution_count": 8,
   "metadata": {},
   "outputs": [
    {
     "name": "stdout",
     "output_type": "stream",
     "text": [
      "44\n",
      "0 MIIFXTCCA8Wg\n",
      "1 MIIFXzCCA8e\n",
      "2 MIIEXjCCA0a\n",
      "3 MIIFYTCCA8m\n",
      "4 MIIFVjCCA76\n",
      "5 MIIFijCCBHK\n",
      "6 MIIFojCCBAq\n",
      "7 MIIFojCCBAq\n",
      "8 MIIFZDCCA8y\n",
      "9 MIIIijCCB3K\n",
      "10 MIIFYzCCA8u\n",
      "11 MIIIczCCB1u\n",
      "12 MIIESDCCAzC\n",
      "13 MIIFSDCCA7C\n",
      "14 MIIEZzCCA0+\n",
      "15 MIIFVjCCA76\n",
      "16 MIIFVjCCA76\n",
      "17 MIIFVjCCA76\n",
      "18 MIIFVjCCA76\n",
      "19 MIIFVjCCA76\n",
      "20 MIIFVjCCA76\n",
      "21 MIIFVjCCA76\n",
      "22 MIIFVzCCA7+\n",
      "23 MIIFVjCCA76\n",
      "24 MIIFVzCCA7+\n",
      "25 MIIFVzCCA7+\n",
      "26 MIIFVzCCA7+\n",
      "27 MIIFVzCCA7+\n",
      "28 MIIFVjCCA76\n",
      "29 MIIFVjCCA76\n",
      "30 MIIFVjCCA76\n",
      "31 MIIFVjCCA76\n",
      "32 MIIFVjCCA76\n",
      "33 MIIFVjCCA76\n",
      "34 MIIFVjCCA76\n",
      "35 MIIFVzCCA7+\n",
      "36 MIIFVzCCA7+\n",
      "37 MIIFVjCCA76\n",
      "38 MIIFVjCCA76\n",
      "39 MIIFVzCCA7+\n",
      "40 MIIFVzCCA7+\n",
      "41 MIIFVzCCA7+\n",
      "42 MIIIqDCCB5C\n"
     ]
    }
   ],
   "source": [
    "### No real need for this ongoing, it's just a bit of proof and verification that we have the certs.\n",
    "print(len(certs))\n",
    "for i in range(0, len(certs)-1):\n",
    "    print(i, certs[i][28:40].strip())"
   ]
  },
  {
   "cell_type": "markdown",
   "metadata": {},
   "source": [
    "------\n",
    "\n",
    "### We have certs, lets get the web page ready\n",
    "\n",
    "\n",
    "--------------"
   ]
  },
  {
   "cell_type": "code",
   "execution_count": 29,
   "metadata": {},
   "outputs": [
    {
     "name": "stdout",
     "output_type": "stream",
     "text": [
      "ExtraHop\n"
     ]
    }
   ],
   "source": [
    "b = webdriver.Chrome()\n",
    "b.get('https://eda-cloud-comm-au-southeast-2.intl.lmco.com/admin/trustedcertificates')\n",
    "print(b.title)"
   ]
  },
  {
   "cell_type": "markdown",
   "metadata": {},
   "source": [
    "-----\n",
    "### Loop here\n",
    "\n",
    "We could loop through the certificates in the LMChain.pem file here.\n",
    "\n",
    "this POC just clicks the `Add New` button and then pushes a new entry with the current cert.  Using a lame naming scheme of **LMCACert<num>**.  seems the easiest.  I imagine you could decode the cert and pull out the name and use that, but for now I would stick with the basics.\n",
    "\n",
    "The input fields in the New Cert Form are `name` and `cert`.  We populate those and then `Submit` the form.\n",
    "\n",
    "I would insert a `sleep` just to keep it from possibly overwhelming the device and be more akin to a person entering the data.\n",
    "\n",
    "--------\n",
    "\n",
    "Steps:\n",
    " - first step is to \"Click\" the `New Cert` button.\n",
    " - on New cert page - load name and cert fields\n",
    " - submit the form\n",
    " - repleat\n",
    "\n"
   ]
  },
  {
   "cell_type": "code",
   "execution_count": 31,
   "metadata": {},
   "outputs": [],
   "source": [
    "\n",
    "for i in range(0, len(certs)-1):\n",
    "    time.sleep(1)\n",
    "    b.find_element_by_class_name('buttonlink').click()               # Choose \"Add Certificate\"\n",
    "    b.find_element_by_name('name').send_keys('LMCA'+str(i+1))\n",
    "    b.find_element_by_name('cert').send_keys(str(certs[i])+'-----END CERTIFICATE-----\\n')\n",
    "    time.sleep(1)\n",
    "    b.find_element_by_xpath('/html/body/main/div/div/form').submit()  # submit new certificate"
   ]
  },
  {
   "cell_type": "code",
   "execution_count": 24,
   "metadata": {},
   "outputs": [],
   "source": [
    "b.close()"
   ]
  }
 ],
 "metadata": {
  "interpreter": {
   "hash": "940921e66316d4aec286bc68d52d7403c6641f7d933798c183b7be3e07e6bb89"
  },
  "kernelspec": {
   "display_name": "Python 3.8.10 64-bit",
   "name": "python3"
  },
  "language_info": {
   "codemirror_mode": {
    "name": "ipython",
    "version": 3
   },
   "file_extension": ".py",
   "mimetype": "text/x-python",
   "name": "python",
   "nbconvert_exporter": "python",
   "pygments_lexer": "ipython3",
   "version": "3.8.10"
  },
  "orig_nbformat": 4
 },
 "nbformat": 4,
 "nbformat_minor": 2
}
