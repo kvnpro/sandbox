{
 "cells": [
  {
   "cell_type": "markdown",
   "source": [
    "### POC of Selenium to automate Adding Certificates\r\n",
    "\r\n",
    "Based on the example used in [this article](https://www.browserstack.com/guide/python-selenium-to-run-web-automation-test), I've included the sample and then expanded to read and use data from `LMChain.pem` which holds 43 certificates used as CA Roots by LM.\r\n",
    "\r\n",
    "A scond article used in building the test case [helped with submitting the form](https://www.tutorialspoint.com/what-are-the-ways-of-submitting-a-form-in-selenium-with-python).\r\n",
    "\r\n",
    "I chose to the `Chrome` option as I had issues invoking the `Firefox` driver on my laptop.  I may come back to that, but in the end, it doesn't really matter for the work we are doing.\r\n",
    "\r\n",
    "-----\r\n"
   ],
   "metadata": {}
  },
  {
   "cell_type": "markdown",
   "source": [
    "### On to Automation!\r\n",
    "\r\n",
    "Now that we've walked through the example code, it's time to make it interesting by introducing `LMChain.pem` and figuing out how to use it to drive a process to add all the contained certs to the ExtraHop `Trusted Certificates` pool.\r\n",
    "\r\n",
    "-----\r\n",
    "\r\n",
    "I decided to use `split('-----END CERTIFICATE-----')` to put each certificatae into a `LIST` element that we could iterate through.  I originally through I'd need to get the Begin...End pair down to a single character to get the split to work.  No need to go back and figure out the Begin line, as we need that anyway when we pass the cert into ExtraHop for processing."
   ],
   "metadata": {}
  },
  {
   "cell_type": "code",
   "execution_count": 25,
   "source": [
    "import pathlib\r\n",
    "import time\r\n",
    "from selenium import webdriver\r\n",
    "from selenium.webdriver.common.keys import Keys"
   ],
   "outputs": [],
   "metadata": {}
  },
  {
   "cell_type": "code",
   "execution_count": 1,
   "source": [
    "with open(\"C:/Users/e309516/LMChain.pem\") as f:\r\n",
    "    content = f.read()\r\n",
    "\r\n",
    "#print(content[1:40])\r\n"
   ],
   "outputs": [],
   "metadata": {}
  },
  {
   "cell_type": "code",
   "execution_count": 2,
   "source": [
    "#fix=content.replace('-----BEGIN CERTIFICATE-----','')\r\n",
    "#fix=fix.replace('-----END CERTIFICATE-----','|')\r\n",
    "#certs = fix.split('|')\r\n",
    "\r\n",
    "certs = content.split('-----END CERTIFICATE-----')"
   ],
   "outputs": [],
   "metadata": {}
  },
  {
   "cell_type": "code",
   "execution_count": 8,
   "source": [
    "### No real need for this ongoing, it's just a bit of proof and verification that we have the certs.\r\n",
    "print(len(certs))\r\n",
    "for i in range(0, len(certs)-1):\r\n",
    "    print(i, certs[i][28:40].strip())"
   ],
   "outputs": [
    {
     "output_type": "stream",
     "name": "stdout",
     "text": [
      "44\n",
      "0 MIIFXTCCA8Wg\n",
      "1 MIIFXzCCA8e\n",
      "2 MIIEXjCCA0a\n",
      "3 MIIFYTCCA8m\n",
      "4 MIIFVjCCA76\n",
      "5 MIIFijCCBHK\n",
      "6 MIIFojCCBAq\n",
      "7 MIIFojCCBAq\n",
      "8 MIIFZDCCA8y\n",
      "9 MIIIijCCB3K\n",
      "10 MIIFYzCCA8u\n",
      "11 MIIIczCCB1u\n",
      "12 MIIESDCCAzC\n",
      "13 MIIFSDCCA7C\n",
      "14 MIIEZzCCA0+\n",
      "15 MIIFVjCCA76\n",
      "16 MIIFVjCCA76\n",
      "17 MIIFVjCCA76\n",
      "18 MIIFVjCCA76\n",
      "19 MIIFVjCCA76\n",
      "20 MIIFVjCCA76\n",
      "21 MIIFVjCCA76\n",
      "22 MIIFVzCCA7+\n",
      "23 MIIFVjCCA76\n",
      "24 MIIFVzCCA7+\n",
      "25 MIIFVzCCA7+\n",
      "26 MIIFVzCCA7+\n",
      "27 MIIFVzCCA7+\n",
      "28 MIIFVjCCA76\n",
      "29 MIIFVjCCA76\n",
      "30 MIIFVjCCA76\n",
      "31 MIIFVjCCA76\n",
      "32 MIIFVjCCA76\n",
      "33 MIIFVjCCA76\n",
      "34 MIIFVjCCA76\n",
      "35 MIIFVzCCA7+\n",
      "36 MIIFVzCCA7+\n",
      "37 MIIFVjCCA76\n",
      "38 MIIFVjCCA76\n",
      "39 MIIFVzCCA7+\n",
      "40 MIIFVzCCA7+\n",
      "41 MIIFVzCCA7+\n",
      "42 MIIIqDCCB5C\n"
     ]
    }
   ],
   "metadata": {}
  },
  {
   "cell_type": "markdown",
   "source": [
    "------\r\n",
    "\r\n",
    "### We have certs, lets get the web page ready\r\n",
    "\r\n",
    "\r\n",
    "--------------"
   ],
   "metadata": {}
  },
  {
   "cell_type": "code",
   "execution_count": 29,
   "source": [
    "b = webdriver.Chrome()\r\n",
    "b.get('https://eda-cloud-comm-au-southeast-2.intl.lmco.com/admin/trustedcertificates')\r\n",
    "print(b.title)"
   ],
   "outputs": [
    {
     "output_type": "stream",
     "name": "stdout",
     "text": [
      "ExtraHop\n"
     ]
    }
   ],
   "metadata": {}
  },
  {
   "cell_type": "markdown",
   "source": [
    "-----\r\n",
    "### Loop here\r\n",
    "\r\n",
    "We could loop through the certificates in the LMChain.pem file here.\r\n",
    "\r\n",
    "this POC just clicks the `Add New` button and then pushes a new entry with the current cert.  Using a lame naming scheme of **LMCACert<num>**.  seems the easiest.  I imagine you could decode the cert and pull out the name and use that, but for now I would stick with the basics.\r\n",
    "\r\n",
    "The input fields in the New Cert Form are `name` and `cert`.  We populate those and then `Submit` the form.\r\n",
    "\r\n",
    "I would insert a `sleep` just to keep it from possibly overwhelming the device and be more akin to a person entering the data.\r\n",
    "\r\n",
    "--------\r\n",
    "\r\n",
    "Steps:\r\n",
    " - first step is to \"Click\" the `New Cert` button.\r\n",
    " - on New cert page - load name and cert fields\r\n",
    " - submit the form\r\n",
    " - repleat\r\n",
    "\r\n"
   ],
   "metadata": {}
  },
  {
   "cell_type": "code",
   "execution_count": 31,
   "source": [
    "\r\n",
    "for i in range(0, len(certs)-1):\r\n",
    "    time.sleep(1)\r\n",
    "    b.find_element_by_class_name('buttonlink').click()               # Choose \"Add Certificate\"\r\n",
    "    b.find_element_by_name('name').send_keys('LMCA'+str(i+1))\r\n",
    "    b.find_element_by_name('cert').send_keys(str(certs[i])+'-----END CERTIFICATE-----\\n')\r\n",
    "    time.sleep(1)\r\n",
    "    b.find_element_by_xpath('/html/body/main/div/div/form').submit()  # submit new certificate"
   ],
   "outputs": [],
   "metadata": {}
  },
  {
   "cell_type": "code",
   "execution_count": 24,
   "source": [
    "b.close()"
   ],
   "outputs": [],
   "metadata": {}
  }
 ],
 "metadata": {
  "orig_nbformat": 4,
  "language_info": {
   "name": "python",
   "version": "3.8.10",
   "mimetype": "text/x-python",
   "codemirror_mode": {
    "name": "ipython",
    "version": 3
   },
   "pygments_lexer": "ipython3",
   "nbconvert_exporter": "python",
   "file_extension": ".py"
  },
  "kernelspec": {
   "name": "python3",
   "display_name": "Python 3.8.10 64-bit"
  },
  "interpreter": {
   "hash": "940921e66316d4aec286bc68d52d7403c6641f7d933798c183b7be3e07e6bb89"
  }
 },
 "nbformat": 4,
 "nbformat_minor": 2
}