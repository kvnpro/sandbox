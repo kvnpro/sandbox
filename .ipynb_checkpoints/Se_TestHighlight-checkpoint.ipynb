{
 "cells": [
  {
   "cell_type": "markdown",
   "metadata": {},
   "source": [
    "This example will define a `highlight` function in `Selenium`.  The standard [from the sample](https://gist.github.com/dariodiaz/3104601) is to draw red box around an element and change the background to yellow for .3 seconds.\n",
    "\n",
    "I've change the function to accept a time value to shorten or extend the default.\n",
    "\n",
    "----------"
   ]
  },
  {
   "cell_type": "code",
   "execution_count": 7,
   "metadata": {},
   "outputs": [],
   "source": [
    "from selenium import webdriver\n",
    "b = webdriver.Chrome()\n",
    "b.get('https://eda-metro-space-us-huntsville-1.us.lmco.com/admin/trustedcertificates')"
   ]
  },
  {
   "cell_type": "code",
   "execution_count": 17,
   "metadata": {},
   "outputs": [],
   "source": [
    "search_bar = b.find_element_by_name(\"name\")\n",
    "highlight(search_bar,5)"
   ]
  },
  {
   "cell_type": "code",
   "execution_count": 27,
   "metadata": {},
   "outputs": [],
   "source": [
    "import time\n",
    "def highlight(element,n=.3,bgcolor='yellow'):\n",
    "    \"\"\"Highlights (blinks) a Selenium Webdriver element\"\"\"\n",
    "    driver = element._parent\n",
    "    def apply_style(s):\n",
    "        driver.execute_script(\"arguments[0].setAttribute('style', arguments[1]);\",\n",
    "                              element, s)\n",
    "    original_style = element.get_attribute('style')\n",
    "    apply_style('background: ' + bgcolor + '; border: 5px solid red;')\n",
    "    time.sleep(n)\n",
    "    apply_style(original_style)"
   ]
  },
  {
   "cell_type": "code",
   "execution_count": 38,
   "metadata": {},
   "outputs": [],
   "source": [
    "highlight(b.find_element_by_class_name('buttonlink'),2)"
   ]
  },
  {
   "cell_type": "code",
   "execution_count": 6,
   "metadata": {},
   "outputs": [],
   "source": [
    "b.close()"
   ]
  },
  {
   "cell_type": "code",
   "execution_count": null,
   "metadata": {},
   "outputs": [],
   "source": []
  }
 ],
 "metadata": {
  "interpreter": {
   "hash": "940921e66316d4aec286bc68d52d7403c6641f7d933798c183b7be3e07e6bb89"
  },
  "kernelspec": {
   "display_name": "Python 3 (ipykernel)",
   "language": "python",
   "name": "python3"
  },
  "language_info": {
   "codemirror_mode": {
    "name": "ipython",
    "version": 3
   },
   "file_extension": ".py",
   "mimetype": "text/x-python",
   "name": "python",
   "nbconvert_exporter": "python",
   "pygments_lexer": "ipython3",
   "version": "3.9.10+"
  }
 },
 "nbformat": 4,
 "nbformat_minor": 2
}
