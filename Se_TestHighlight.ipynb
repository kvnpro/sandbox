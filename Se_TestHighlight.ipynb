{
 "cells": [
  {
   "cell_type": "markdown",
   "source": [
    "This example will define a `highlight` function in `Selenium`.  The standard [from the sample](https://gist.github.com/dariodiaz/3104601) is to draw red box around an element and change the background to yellow for .3 seconds.\r\n",
    "\r\n",
    "I've change the function to accept a time value to shorten or extend the default."
   ],
   "metadata": {}
  },
  {
   "cell_type": "code",
   "execution_count": 7,
   "source": [
    "from selenium import webdriver\r\n",
    "b = webdriver.Chrome()\r\n",
    "b.get('https://eda-metro-space-us-huntsville-1.us.lmco.com/admin/trustedcertificates')"
   ],
   "outputs": [],
   "metadata": {}
  },
  {
   "cell_type": "code",
   "execution_count": 17,
   "source": [
    "search_bar = b.find_element_by_name(\"name\")\r\n",
    "highlight(search_bar,5)"
   ],
   "outputs": [],
   "metadata": {}
  },
  {
   "cell_type": "code",
   "execution_count": 27,
   "source": [
    "import time\r\n",
    "def highlight(element,n=.3,bgcolor='yellow'):\r\n",
    "    \"\"\"Highlights (blinks) a Selenium Webdriver element\"\"\"\r\n",
    "    driver = element._parent\r\n",
    "    def apply_style(s):\r\n",
    "        driver.execute_script(\"arguments[0].setAttribute('style', arguments[1]);\",\r\n",
    "                              element, s)\r\n",
    "    original_style = element.get_attribute('style')\r\n",
    "    apply_style('background: ' + bgcolor + '; border: 5px solid red;')\r\n",
    "    time.sleep(n)\r\n",
    "    apply_style(original_style)"
   ],
   "outputs": [],
   "metadata": {}
  },
  {
   "cell_type": "code",
   "execution_count": 38,
   "source": [
    "highlight(b.find_element_by_class_name('buttonlink'),2)"
   ],
   "outputs": [],
   "metadata": {}
  },
  {
   "cell_type": "code",
   "execution_count": 6,
   "source": [
    "b.close()"
   ],
   "outputs": [],
   "metadata": {}
  },
  {
   "cell_type": "code",
   "execution_count": null,
   "source": [],
   "outputs": [],
   "metadata": {}
  }
 ],
 "metadata": {
  "orig_nbformat": 4,
  "language_info": {
   "name": "python",
   "version": "3.8.10",
   "mimetype": "text/x-python",
   "codemirror_mode": {
    "name": "ipython",
    "version": 3
   },
   "pygments_lexer": "ipython3",
   "nbconvert_exporter": "python",
   "file_extension": ".py"
  },
  "kernelspec": {
   "name": "python3",
   "display_name": "Python 3.8.10 64-bit"
  },
  "interpreter": {
   "hash": "940921e66316d4aec286bc68d52d7403c6641f7d933798c183b7be3e07e6bb89"
  }
 },
 "nbformat": 4,
 "nbformat_minor": 2
}